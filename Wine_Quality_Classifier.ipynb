{
 "cells": [
  {
   "cell_type": "code",
   "execution_count": 6,
   "metadata": {},
   "outputs": [],
   "source": [
    "#importing packages\n",
    "import pandas as pd\n",
    "import numpy as np\n",
    "import matplotlib.pyplot as plt\n",
    "import seaborn as sns\n",
    "%matplotlib inline"
   ]
  },
  {
   "cell_type": "code",
   "execution_count": 7,
   "metadata": {},
   "outputs": [],
   "source": [
    "# Loading the Datasets\n",
    "wine_white=pd.read_csv('winequality_white.csv',sep =';')\n",
    "wine_red=pd.read_csv('winequality_red.csv',sep =';')"
   ]
  },
  {
   "cell_type": "markdown",
   "metadata": {},
   "source": [
    "# RED WINE DATASET"
   ]
  },
  {
   "cell_type": "code",
   "execution_count": 8,
   "metadata": {},
   "outputs": [],
   "source": [
    "# Scaling and Standardizing the features\n",
    "from sklearn.preprocessing import StandardScaler\n",
    "scaler = StandardScaler()\n",
    "scaler.fit(wine_red)\n",
    "scaled_data = scaler.transform(wine_red)"
   ]
  },
  {
   "cell_type": "code",
   "execution_count": 9,
   "metadata": {},
   "outputs": [],
   "source": [
    "# PCA for Red wine dataset\n",
    "from sklearn.decomposition import PCA\n",
    "pca = PCA(n_components=9)\n",
    "pca.fit(scaled_data)\n",
    "x_pca = pca.transform(scaled_data)"
   ]
  },
  {
   "cell_type": "code",
   "execution_count": 10,
   "metadata": {},
   "outputs": [],
   "source": [
    "# Assigning the variables\n",
    "x=x_pca\n",
    "y=wine_red['quality']"
   ]
  },
  {
   "cell_type": "code",
   "execution_count": 11,
   "metadata": {},
   "outputs": [],
   "source": [
    "# Train Test Split\n",
    "from sklearn.model_selection import train_test_split\n",
    "x_train,x_test,y_train,y_test=train_test_split(x,y,test_size=0.3,random_state=42)"
   ]
  },
  {
   "cell_type": "code",
   "execution_count": 12,
   "metadata": {},
   "outputs": [],
   "source": [
    "# Random Forest Classifier Model Building\n",
    "from sklearn.ensemble import RandomForestClassifier\n",
    "rfc=RandomForestClassifier(n_estimators=700)\n",
    "rfc.fit(x_train,y_train)\n",
    "rfc_pred=rfc.predict(x_test)"
   ]
  },
  {
   "cell_type": "code",
   "execution_count": 121,
   "metadata": {},
   "outputs": [
    {
     "name": "stdout",
     "output_type": "stream",
     "text": [
      "[[  0   1   0   0   0   0]\n",
      " [  0   6  11   0   0   0]\n",
      " [  0   0 185  10   0   0]\n",
      " [  0   0   5 194   1   0]\n",
      " [  0   0   0   9  52   0]\n",
      " [  0   0   0   0   4   2]]\n",
      "\n",
      "\n",
      "             precision    recall  f1-score   support\n",
      "\n",
      "          3       0.00      0.00      0.00         1\n",
      "          4       0.86      0.35      0.50        17\n",
      "          5       0.92      0.95      0.93       195\n",
      "          6       0.91      0.97      0.94       200\n",
      "          7       0.91      0.85      0.88        61\n",
      "          8       1.00      0.33      0.50         6\n",
      "\n",
      "avg / total       0.91      0.91      0.91       480\n",
      "\n",
      "\n",
      "\n",
      "0.9145833333333333\n"
     ]
    },
    {
     "name": "stderr",
     "output_type": "stream",
     "text": [
      "C:\\Users\\IIITG\\Anaconda3\\Anaconda\\lib\\site-packages\\sklearn\\metrics\\classification.py:1135: UndefinedMetricWarning: Precision and F-score are ill-defined and being set to 0.0 in labels with no predicted samples.\n",
      "  'precision', 'predicted', average, warn_for)\n"
     ]
    }
   ],
   "source": [
    "# Model Evaluation\n",
    "from sklearn.metrics import classification_report, confusion_matrix,accuracy_score\n",
    "print(confusion_matrix(y_test,rfc_pred))\n",
    "print('\\n')\n",
    "print(classification_report(y_test,rfc_pred))\n",
    "print('\\n')\n",
    "print(accuracy_score(y_test,rfc_pred))"
   ]
  },
  {
   "cell_type": "markdown",
   "metadata": {},
   "source": [
    "# WHITE WINE DATASET"
   ]
  },
  {
   "cell_type": "code",
   "execution_count": 14,
   "metadata": {},
   "outputs": [],
   "source": [
    "# Scaling and Standardizing the features and PCA for white wine dataset\n",
    "scaler1 = StandardScaler()\n",
    "scaler1.fit(wine_white)\n",
    "scaled_data1 = scaler1.transform(wine_white)\n",
    "pca1 = PCA(n_components=10)\n",
    "pca1.fit(scaled_data1)\n",
    "x_pca1 = pca1.transform(scaled_data1)"
   ]
  },
  {
   "cell_type": "code",
   "execution_count": 15,
   "metadata": {},
   "outputs": [],
   "source": [
    "# Assigning the variables\n",
    "X=x_pca1\n",
    "Y=wine_white['quality']"
   ]
  },
  {
   "cell_type": "code",
   "execution_count": 17,
   "metadata": {},
   "outputs": [],
   "source": [
    "# Train Test Split\n",
    "from sklearn.model_selection import train_test_split\n",
    "X_train,X_test,Y_train,Y_test=train_test_split(X,Y,test_size=0.3,random_state=42)"
   ]
  },
  {
   "cell_type": "code",
   "execution_count": 18,
   "metadata": {},
   "outputs": [],
   "source": [
    "# Random Forest Classifier Model Building\n",
    "from sklearn.ensemble import RandomForestClassifier\n",
    "rfc1=RandomForestClassifier(n_estimators=700)\n",
    "rfc1.fit(X_train,Y_train)\n",
    "rfc_pred1=rfc1.predict(X_test)"
   ]
  },
  {
   "cell_type": "code",
   "execution_count": 19,
   "metadata": {},
   "outputs": [
    {
     "name": "stdout",
     "output_type": "stream",
     "text": [
      "[[  0   4   3   0   0   0]\n",
      " [  0  20  20   0   0   0]\n",
      " [  0   1 411  14   0   0]\n",
      " [  0   0   4 661   3   0]\n",
      " [  0   0   0  22 258   0]\n",
      " [  0   0   0   0   9  40]]\n",
      "\n",
      "\n",
      "             precision    recall  f1-score   support\n",
      "\n",
      "          3       0.00      0.00      0.00         7\n",
      "          4       0.80      0.50      0.62        40\n",
      "          5       0.94      0.96      0.95       426\n",
      "          6       0.95      0.99      0.97       668\n",
      "          7       0.96      0.92      0.94       280\n",
      "          8       1.00      0.82      0.90        49\n",
      "\n",
      "avg / total       0.94      0.95      0.94      1470\n",
      "\n",
      "\n",
      "\n",
      "0.9455782312925171\n"
     ]
    },
    {
     "name": "stderr",
     "output_type": "stream",
     "text": [
      "C:\\Users\\IIITG\\Anaconda3\\Anaconda\\lib\\site-packages\\sklearn\\metrics\\classification.py:1135: UndefinedMetricWarning: Precision and F-score are ill-defined and being set to 0.0 in labels with no predicted samples.\n",
      "  'precision', 'predicted', average, warn_for)\n"
     ]
    }
   ],
   "source": [
    "# Model Evaluation\n",
    "from sklearn.metrics import classification_report, confusion_matrix,accuracy_score\n",
    "print(confusion_matrix(Y_test,rfc_pred1))\n",
    "print('\\n')\n",
    "print(classification_report(Y_test,rfc_pred1))\n",
    "print('\\n')\n",
    "print(accuracy_score(Y_test,rfc_pred1))"
   ]
  },
  {
   "cell_type": "code",
   "execution_count": 20,
   "metadata": {},
   "outputs": [
    {
     "name": "stdout",
     "output_type": "stream",
     "text": [
      "Feature ranking:\n",
      "1. feature 1 (0.373353)\n",
      "2. feature 7 (0.166560)\n",
      "3. feature 6 (0.111101)\n",
      "4. feature 2 (0.085402)\n",
      "5. feature 8 (0.063290)\n",
      "6. feature 0 (0.057092)\n",
      "7. feature 4 (0.056947)\n",
      "8. feature 5 (0.048537)\n",
      "9. feature 3 (0.037718)\n"
     ]
    },
    {
     "data": {
      "image/png": "[encoded data removed]",
      "text/plain": [
       "<Figure size 432x288 with 1 Axes>"
      ]
     },
     "metadata": {},
     "output_type": "display_data"
    }
   ],
   "source": [
    "# Checking the importance of each features in a dataset\n",
    "importances = rfc.feature_importances_\n",
    "std = np.std([tree.feature_importances_ for tree in rfc.estimators_],\n",
    "             axis=0)\n",
    "indices = np.argsort(importances)[::-1]\n",
    "\n",
    "# Print the feature ranking\n",
    "print(\"Feature ranking:\")\n",
    "\n",
    "for f in range(x.shape[1]):\n",
    "    print(\"%d. feature %d (%f)\" % (f + 1, indices[f], importances[indices[f]]))\n",
    "\n",
    "# Plot the feature importances of the forest\n",
    "plt.figure()\n",
    "plt.title(\"Feature importances\")\n",
    "plt.bar(range(x.shape[1]), importances[indices],\n",
    "       color=\"r\", yerr=std[indices], align=\"center\")\n",
    "plt.xticks(range(x.shape[1]), indices)\n",
    "plt.xlim([-1, x.shape[1]])\n",
    "plt.show()"
   ]
  },
  {
   "cell_type": "code",
   "execution_count": null,
   "metadata": {},
   "outputs": [],
   "source": []
  }
 ],
 "metadata": {
  "kernelspec": {
   "display_name": "Python 3",
   "language": "python",
   "name": "python3"
  },
  "language_info": {
   "codemirror_mode": {
    "name": "ipython",
    "version": 3
   },
   "file_extension": ".py",
   "mimetype": "text/x-python",
   "name": "python",
   "nbconvert_exporter": "python",
   "pygments_lexer": "ipython3",
   "version": "3.6.4"
  }
 },
 "nbformat": 4,
 "nbformat_minor": 2
}
